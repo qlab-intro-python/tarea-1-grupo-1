{
 "cells": [
  {
   "cell_type": "markdown",
   "metadata": {},
   "source": [
    "# **Tarea Nº 1**"
   ]
  },
  {
   "cell_type": "markdown",
   "metadata": {},
   "source": [
    "Curso:          Fundamentos de Programación en Python\n",
    "Profesor:       Victor Fuentes Campos     "
   ]
  },
  {
   "cell_type": "markdown",
   "metadata": {},
   "source": [
    "- Fecha y hora de entrega: Domingo Jueves 1 de dicieimbre, 11:59pm\n",
    "- Agregue los nombres de las personas con las que discutió esta tarea: ____ Armando Paredes ______\n",
    "- Envíe su tarea haciendo el `push` de su código a su repo en GitHub Classroom: "
   ]
  },
  {
   "cell_type": "markdown",
   "metadata": {},
   "source": [
    "# 1. Git"
   ]
  },
  {
   "cell_type": "markdown",
   "metadata": {},
   "source": [
    "\n",
    "a. Commit, Push, Pull\n",
    "\n",
    "Instrucciones:\n",
    "1. Cada miembro del equipo debe clonar el repo de su tarea en su computadora\n",
    "1. Luego, en el branch master (`main`), el integrante Nº 1 cambia el nombre del archivo `.ipynb` a `tarea_1.ipynb`\n",
    "1. Usando GitHub Desktop, el integrante Nº 2 notará que hay cambios en el repo. Por lo tanto, hará el `pull` de la nueva versión del repo. Ahora ambos tiene el archivo con el nombre apropiado en sus computadoras\n",
    "\n",
    "*Este ejercicio se calificará directamente en GitHub*\n",
    "\n",
    "b. Merge conflicts (opcional)\n",
    "\n",
    "1. El integrante Nº 1 abre un branch nuevo `merge_conflict_practice_1`. En el archivo `tarea_1.ipynb` reemplazará \"Armando Paredes\" por su nombre. Luego, hará `commit`y `push` de a GitHub. (En Github Desktop se llama `publish`)\n",
    "1. El integrante Nº 2 abre un branch nuevo `merge_conflict_practice_2`. En el archivo `tarea_1.ipynb` reemplazará \"Armando Paredes\" por su nombre. Luego, hará `commit`y `push` de a GitHub. (En Github Desktop se llama `publish`)\n",
    "1. El integrante Nº 1 hará un `pull request`\n",
    "1. El integrante Nº 2 hará el `review` del `pull request`, aceptará los cambios de su compañero y hará `merge` del branch al `master`. ¡Listo, completaste tu primer pull request!\n",
    "1. El integrante Nº 2 hará un `pull request`\n",
    "1. El integrante Nº 1 hará el `review` del `pull request` y habrá un `merge conflict` poeque ambos están cambiando la misma línea de código. Ajuste el archivo y complete el `merge``\n",
    "Cambie de roles y fuerce un `merge conflict` con una sección diferente del archivo `tarea_1.ipynb` (Fecha de entrega, nombre del curso, etc.)\n",
    "1. Explique muy brevemente porque se generó el `merge conflict`"
   ]
  },
  {
   "cell_type": "markdown",
   "metadata": {},
   "source": [
    "*Respuesta: ______________________________*"
   ]
  },
  {
   "cell_type": "markdown",
   "metadata": {},
   "source": [
    "# 2. Variables"
   ]
  },
  {
   "cell_type": "markdown",
   "metadata": {},
   "source": [
    "Considere la siguiente información como punto de partida y complete los espacios en blanco"
   ]
  },
  {
   "cell_type": "code",
   "execution_count": 1,
   "metadata": {},
   "outputs": [],
   "source": [
    "monthly_savings = 10\n",
    "num_months = 12"
   ]
  },
  {
   "cell_type": "markdown",
   "metadata": {},
   "source": [
    "a. Calculate year_savings using monthly_savings and num_months\n"
   ]
  },
  {
   "cell_type": "code",
   "execution_count": 2,
   "metadata": {},
   "outputs": [
    {
     "data": {
      "text/plain": [
       "120"
      ]
     },
     "execution_count": 2,
     "metadata": {},
     "output_type": "execute_result"
    }
   ],
   "source": [
    "# Calculate the product of monthly_savings and num_months\n",
    "year_savings = monthly_savings*num_months\n",
    "year_savings"
   ]
  },
  {
   "cell_type": "markdown",
   "metadata": {},
   "source": [
    "b. Print the type of year_savings"
   ]
  },
  {
   "cell_type": "code",
   "execution_count": 3,
   "metadata": {},
   "outputs": [
    {
     "data": {
      "text/plain": [
       "int"
      ]
     },
     "execution_count": 3,
     "metadata": {},
     "output_type": "execute_result"
    }
   ],
   "source": [
    "# What do you think the resulting type will be? Find out by printing out the type of year_savings.\n",
    "type(year_savings)\n",
    "#year_savings es un integer porque  es un numero entero"
   ]
  },
  {
   "cell_type": "markdown",
   "metadata": {},
   "source": [
    "# 3. Lists"
   ]
  },
  {
   "cell_type": "markdown",
   "metadata": {},
   "source": [
    "Considere la siguiente información como punto de partida y complete los espacios en blanco"
   ]
  },
  {
   "cell_type": "code",
   "execution_count": 3,
   "metadata": {},
   "outputs": [],
   "source": [
    "import numpy as np\n",
    "f_list = [\"Brazil\", np.nan , np.nan, \"Austria\", \"Germany\", np.nan, \"Pakistan\", \"np.nan\", np.nan ]\n",
    "text1 = ['My', 'new', 'teacher', 'assistant', 'is', 'so', 'boring.']\n",
    "p1_list = [ 2 , 3, 4, 5 , 6 ]\n",
    "values1 = [ 86, 86, 85, 85, 85, 83, 23, 0, 84, 1, 91 ]\n",
    "last_and_name = [ \"CORNEJO SANCHEZ, CHRISTIAN SANTOS\", \"ORELLANA QUISPE, CRISTIAN NASSER\", \"MORALES CHOQUEHUANCA, ANGELICA KARINA\", \"GUIMARAY RIBEYRO, JOSE ROBERTO\", \"CAMACHO GAVIDIA, ABEL FERNANDO\", \"TINTAYA ORIHUELA, MEIR ALVARO\", \"CHAVEZ MARTINEZ, JOSELIN ALEXANDRA\", \"FIGUEROA MURO, LEONEL ARTURO\", \"GOMEZ CRIBILLERO, JOSE FELIPE\", \"PALOMINO SEGUÍN, AFRANIA\", \"LUZON CUEVA, BIANCA MARIETTE\", \"SUAÑA ZEGARRA, ADRIAN ANDRE\", \"SOTO POMACHAGUA, DORKAS YOMIRA JHERMY\", \"FIORENTINO MARTINEZ, LADY ALY\", \"LAMA MAVILA, HECTOR ANDRE\", \"MEZA HINOJO, GUSTAVO\", \"LOZADA MURILLO, PERSEO MARCELO\", \"ZAMBRANO JIMENEZ, MIGUEL ALONZO\", \"JACOBS LUQUE, NICOLAS\", \"VIDAL VIDAL, ROCIO GABRIELA\", \"TORRES ANICAMA, JANE CAMILA\", \"LOPEZ ESTRADA, MARIA ELISA\", \"BOYCO ORAMS, ALEJANDRO\", \"DIAZ BERROSPI, KARLINE ROSMELI\", \"RIEGA ESCALANTE, STEPHY ROSARIO\", \"LEVANO TORRES, VALERIA CECILIA\", \"ESQUIVES BRAVO, SEBASTIAN RENATO\", \"PEREZ GONZALES, JUAN CARLOS\", \"OTERO MAGUIÑA, MARIANA\", \"CLAVO CAMPOS, ANDREA BRIZETH\", \"AGUILAR GARCIA, ERICK JOSUE\", \"CALDAS VELASQUEZ, JOSUE DANIEL\", \"SALAS NUÑEZ BORJA, FABIO MANUEL\", \"PIZARRO VILLANES, FERNANDA NICOLLE\", \"QUILLATUPA MORALES, ANGELA ADELINA\", \"HUANCAYA IDONE, CESAR DANTE\", \"CALVO PORTOCARRERO, GABRIELA ISABEL\", \"IBAÑEZ ABANTO, ANGEL MAURICIO\", \"MELÉNDEZ APONTE, JUAN DIEGO\", \"CRISTIAN SERRANO, ARONE\", \"HINOJOSA CAHUANA, PERCY ALBERTH\", \"ANGLAS GARCÍA, KEVIN ARTURO\", \"ALDAVE ACOSTA, CESAR ERNESTO\", \"NÚÑEZ HUAMÁN, CÉSAR AGUSTO\", \"OBREGON HUAMAN, DIANA EDITH\", \"SOTO PACHERRES, RODRIGO FRANCO\", \"INGARUCA RIVERA, GRETTEL ALEXANDRA\", \"ROJAS HUAMAN, ROSA ANGELA\", \"NEYRA SALAS, DANTE OMAR\", \"HUERTA ESPINOZA, YAJAIRA ALEXANDRA\", \"HUANCA MARTINEZ, JORGE ALBERTO\", \"FLORES CADILLO, ALEXIS\" ]\n",
    "emails = [\"cscornejo@pucp.edu.pe\", \"orellana.cn@pucp.edu.pe\", \"karina.morales@pucp.edu.pe\", \"a20083223@pucp.pe\", \"abel.camacho@pucp.pe\", \"mtintaya@pucp.edu.pe\", \"joselin.chavez@pucp.edu.pe\", \"a20105737@pucp.pe\", \"jfgomezc@pucp.pe\", \"afrania.palomino@pucp.pe\", \"luzon.bianca@pucp.pe\", \"adrian.suanaz@pucp.pe\", \"soto.y@pucp.edu.pe\", \"a20132766@pucp.pe\", \"andre.lama@pucp.edu.pe\", \"gustavo.meza@pucp.edu.pe\", \"pmlozada@pucp.edu.pe\", \"m.zambranoj@pucp.edu.pe\", \"nicolas.jacobs@pucp.edu.pe\", \"gvidal@pucp.edu.pe\", \"jane.torres@pucp.edu.pe\", \"m.lopez@pucp.edu.pe\", \"alejandro.boyco@pucp.edu.pe\", \"a20167070@pucp.edu.pe\", \"riega.stephy@pucp.edu.pe\", \"vlevanot@pucp.edu.pe\", \"sesquives@pucp.edu.pe\", \"perez.juanc@pucp.edu.pe\", \"mariana.otero@pucp.edu.pe\", \"aclavo@pucp.edu.pe\", \"a20182474@pucp.edu.pe\", \"josue.caldas@pucp.edu.pe\", \"fabio.salas@pucp.edu.pe\", \"fernanda.pizarro@pucp.edu.pe\", \"aquillatupa@pucp.pe\", \"\", \"\", \"\", \"\", \"\", \"f0873079@pucp.edu.pe\", \"\", \"\", \"\", \"\", \"\", \"\", \"\", \"\", \"\", \"\", \"flores.alexis@pucp.edu.pe\", ]"
   ]
  },
  {
   "cell_type": "markdown",
   "metadata": {},
   "source": [
    "a. Show the indices of the `np.nan`` values in the `f_list` list. We want to see this output: *The indices 1, 2, 5, 8 have np.nan values*. Hint: Use print function and f-strings to insert the indices values.\n"
   ]
  },
  {
   "cell_type": "code",
   "execution_count": 27,
   "metadata": {},
   "outputs": [
    {
     "name": "stdout",
     "output_type": "stream",
     "text": [
      "The indices 1, 2, 5, 8 have np.nan values.\n"
     ]
    }
   ],
   "source": [
    "# Show indices for np.nan values\n",
    "nan_indices = [i for i, value in enumerate(f_list) if value is np.nan]\n",
    "print(f\"The indices {', '.join(map(str, nan_indices))} have np.nan values.\")"
   ]
  },
  {
   "cell_type": "markdown",
   "metadata": {},
   "source": [
    "b. Replicate 4 times the values of the list `p1_list`. We expect an ouput like this: [ 2 , 3, 4, 5, 2 , 3, 4, 5, 2 , 3, 4, 5, 2 , 3, 4, 5]. Hint: Use multiplication function in listsand see the output."
   ]
  },
  {
   "cell_type": "code",
   "execution_count": null,
   "metadata": {},
   "outputs": [
    {
     "data": {
      "text/plain": [
       "[2, 3, 4, 5, 2, 3, 4, 5, 2, 3, 4, 5, 2, 3, 4, 5]"
      ]
     },
     "execution_count": 11,
     "metadata": {},
     "output_type": "execute_result"
    }
   ],
   "source": [
    "# Replicates p1_list\n",
    "n = 4\n",
    "p1_list[0:-1]*n "
   ]
  },
  {
   "cell_type": "markdown",
   "metadata": {},
   "source": [
    "c. Print the length of `f_list`. **Hint: Length function**"
   ]
  },
  {
   "cell_type": "code",
   "execution_count": 13,
   "metadata": {},
   "outputs": [
    {
     "data": {
      "text/plain": [
       "9"
      ]
     },
     "execution_count": 13,
     "metadata": {},
     "output_type": "execute_result"
    }
   ],
   "source": [
    "# Lenngth of f_list\n",
    "len(f_list)\n"
   ]
  },
  {
   "cell_type": "markdown",
   "metadata": {},
   "source": [
    "d. Print `My new teacher assistant is so boring.` using `text1` list. **Hint: Use the [`join` function](https://stackoverflow.com/questions/493819/why-is-it-string-joinlist-instead-of-list-joinstring)**"
   ]
  },
  {
   "cell_type": "code",
   "execution_count": 4,
   "metadata": {},
   "outputs": [
    {
     "data": {
      "text/plain": [
       "'My new teacher assistant is so boring.'"
      ]
     },
     "execution_count": 4,
     "metadata": {},
     "output_type": "execute_result"
    }
   ],
   "source": [
    "# Printing\n",
    "\" \".join(text1)"
   ]
  },
  {
   "cell_type": "markdown",
   "metadata": {},
   "source": [
    "# 4. Strings"
   ]
  },
  {
   "cell_type": "markdown",
   "metadata": {},
   "source": [
    "Considere la siguiente información como punto de partida y complete los espacios en blanco"
   ]
  },
  {
   "cell_type": "code",
   "execution_count": 10,
   "metadata": {},
   "outputs": [],
   "source": [
    "str1 = 'I am                            too                                                        old'\n",
    "emails = [\"cscornejo@pucp.edu.pe\", \"orellana.cn@pucp.edu.pe\", \"karina.morales@pucp.edu.pe\", \"a20083223@pucp.pe\", \"abel.camacho@pucp.pe\", \"mtintaya@pucp.edu.pe\", \"joselin.chavez@pucp.edu.pe\", \"a20105737@pucp.pe\", \"jfgomezc@pucp.pe\", \"afrania.palomino@pucp.pe\", \"luzon.bianca@pucp.pe\", \"adrian.suanaz@pucp.pe\", \"soto.y@pucp.edu.pe\", \"a20132766@pucp.pe\", \"andre.lama@pucp.edu.pe\", \"gustavo.meza@pucp.edu.pe\", \"pmlozada@pucp.edu.pe\", \"m.zambranoj@pucp.edu.pe\", \"nicolas.jacobs@pucp.edu.pe\", \"gvidal@pucp.edu.pe\", \"jane.torres@pucp.edu.pe\", \"m.lopez@pucp.edu.pe\", \"alejandro.boyco@pucp.edu.pe\", \"a20167070@pucp.edu.pe\", \"riega.stephy@pucp.edu.pe\", \"vlevanot@pucp.edu.pe\", \"sesquives@pucp.edu.pe\", \"perez.juanc@pucp.edu.pe\", \"mariana.otero@pucp.edu.pe\", \"aclavo@pucp.edu.pe\", \"a20182474@pucp.edu.pe\", \"josue.caldas@pucp.edu.pe\", \"fabio.salas@pucp.edu.pe\", \"fernanda.pizarro@pucp.edu.pe\", \"aquillatupa@pucp.pe\"]"
   ]
  },
  {
   "cell_type": "markdown",
   "metadata": {},
   "source": [
    "1. Drop the duplicated blank spaces in `str1`. Do not use the regular expresions. Do not use the code shown in class. Explain your steps.**Hint: Use `split` method and `join` function.**"
   ]
  },
  {
   "cell_type": "code",
   "execution_count": null,
   "metadata": {},
   "outputs": [
    {
     "name": "stdout",
     "output_type": "stream",
     "text": [
      "I am too old\n"
     ]
    }
   ],
   "source": [
    "# Drop duplicated blank spaces\n",
    "#primero lo convertimos en lista y luego le decimos que lo separe por espacios con split\n",
    "cleaned_str1 = ' '.join(str1.split())\n",
    "print(cleaned_str1)"
   ]
  },
  {
   "cell_type": "markdown",
   "metadata": {},
   "source": [
    "2. Get the number of letters in the string .**Hint: Use `len`function.**"
   ]
  },
  {
   "cell_type": "code",
   "execution_count": 30,
   "metadata": {},
   "outputs": [
    {
     "data": {
      "text/plain": [
       "9"
      ]
     },
     "execution_count": 30,
     "metadata": {},
     "output_type": "execute_result"
    }
   ],
   "source": [
    "# Number of letters\n",
    "letras = ''.join(str1.split())\n",
    "len(letras)"
   ]
  },
  {
   "cell_type": "markdown",
   "metadata": {},
   "source": [
    "3. (Optional) Get the number of blank spaces (all of them) in the string .**Hint: Use `len`function.**"
   ]
  },
  {
   "cell_type": "code",
   "execution_count": 28,
   "metadata": {},
   "outputs": [
    {
     "data": {
      "text/plain": [
       "85"
      ]
     },
     "execution_count": 28,
     "metadata": {},
     "output_type": "execute_result"
    }
   ],
   "source": [
    "# Number of blanck spaces\n",
    "str1.count(\" \")"
   ]
  },
  {
   "cell_type": "markdown",
   "metadata": {},
   "source": [
    "# 5. NumPy"
   ]
  },
  {
   "cell_type": "markdown",
   "metadata": {},
   "source": [
    "Considere la siguiente información como punto de partida y complete los espacios en blanco"
   ]
  },
  {
   "cell_type": "code",
   "execution_count": 21,
   "metadata": {},
   "outputs": [
    {
     "data": {
      "text/plain": [
       "array([14,  8,  8, 13,  5, 13,  0,  1, 13,  8, 14, 10, 11, 14,  7,  1, 10,\n",
       "       12,  5, 10,  8,  9, 14,  7,  5, 12, 12,  6,  0,  3, 10, 11, 11, 10,\n",
       "       12,  3, 12, 13,  7,  6, 14,  3, 10,  0,  7,  9,  0, 10,  6,  6, 11,\n",
       "       13,  6, 11,  5,  6, 11, 10, 14,  8,  5,  2, 11, 11,  6, 12, 11,  5,\n",
       "        9, 11,  5,  8,  8,  3,  2,  4,  8, 14,  5,  1,  8,  7,  2,  5, 13,\n",
       "       11,  9,  0, 11,  0,  1,  7,  8,  8,  1, 14,  2, 13,  1, 10,  8,  6,\n",
       "        6,  2, 14,  0,  3, 10,  7,  6, 13, 14,  3,  1,  5, 10, 14,  2,  7,\n",
       "       14,  7,  5,  4,  1,  3, 14,  5,  2,  4,  8, 10,  3,  4,  4, 14,  2,\n",
       "        3,  9, 13,  0,  5,  7,  6,  2, 11,  9,  4,  3,  2, 14,  2, 14, 11,\n",
       "        5,  2, 13,  9,  8,  5, 12, 10, 12, 13,  7,  1,  7,  7,  5,  2,  9,\n",
       "        7,  0,  5,  8,  8, 12,  3,  3,  9,  9,  6,  9,  0, 14,  0, 12, 12,\n",
       "       13,  5,  4, 12, 12,  4, 10, 10,  8,  5,  5, 13, 10, 11,  0,  0,  7,\n",
       "        3,  8,  2, 14,  9,  5, 14,  4,  5,  2,  5,  8,  6, 12, 11,  4,  9,\n",
       "        2,  7,  9, 12,  5,  4, 14,  3,  7, 14, 12,  1,  6, 11,  6,  7,  5,\n",
       "        2,  0,  1, 13,  1, 14,  2, 11,  9, 13, 13,  2, 10,  4, 11,  4, 12,\n",
       "       13, 14,  5,  3,  3,  2, 11,  6,  9,  5,  7,  0, 12,  5,  2,  4,  4,\n",
       "        3,  8,  4,  6,  3,  9, 11,  0,  8,  1, 11,  9, 11,  1,  2, 10,  6,\n",
       "        6,  8, 10, 12, 14,  0,  7, 13,  9,  2,  0,  0,  7, 11,  5,  5,  8,\n",
       "        8, 14, 10, 12, 13,  8,  6, 10,  0,  8, 13,  3,  6, 10,  1, 14, 13,\n",
       "       12, 13,  3,  2,  4, 12,  3, 13,  8,  7, 11,  2,  3,  3,  9,  0, 10,\n",
       "        6, 10,  1, 11,  9,  7,  8, 14,  4, 10, 11,  1, 11,  7,  5,  4,  4,\n",
       "        2,  6,  4,  6, 14,  8,  5, 14, 14,  2,  5, 13,  9,  3, 10, 12, 10,\n",
       "       11,  7, 11, 10,  2,  8,  2, 11,  3, 14,  9,  8, 10, 14, 10,  4,  9,\n",
       "        4,  7,  0, 10,  2, 11,  0, 14,  9,  0,  8, 11,  7, 13,  9,  2, 14,\n",
       "        1, 13,  4, 12,  0, 13, 10, 11,  9, 14, 10, 14,  6,  5,  0,  0, 11,\n",
       "        4,  8,  1, 10,  4, 14,  5,  7,  6,  6,  0, 12,  5,  1,  9,  8,  3,\n",
       "       14,  6,  8,  7, 13,  3,  5, 12,  9,  8,  2,  7,  5, 11,  2,  3, 10,\n",
       "        3,  2,  0, 12,  4,  8,  7, 13, 13, 13,  7,  9, 12, 14,  3, 11,  6,\n",
       "        0, 13,  0,  9,  6,  3,  9,  3, 11,  0,  2,  0,  0,  9, 11,  7,  8,\n",
       "        5,  8, 10, 10,  3, 12,  4,  4, 13,  2,  2, 10,  6,  9,  0,  1, 12,\n",
       "        9,  6,  1,  9,  3, 14,  9, 14,  2, 12, 12,  7,  4, 14, 13,  1,  6,\n",
       "        3,  8, 10,  1,  8, 10,  4,  9,  7, 14,  5,  5,  7,  9,  1,  5, 11,\n",
       "        1, 11,  7,  3,  6, 12,  4, 13,  8,  8,  6,  0, 14,  8,  2, 10, 13,\n",
       "       10,  8,  4,  7, 12, 10, 10,  3,  3,  9,  5,  8,  0, 10, 14,  7,  6,\n",
       "       12,  7, 11, 13,  7, 12,  3,  2,  7, 13,  3,  3, 12,  9,  0,  9,  3,\n",
       "        0,  2,  1,  8,  6, 11, 11,  5,  9,  3,  3, 14, 12,  2,  5,  5,  3,\n",
       "        9, 12,  5,  9, 11,  5,  5, 12, 12,  6, 11,  8,  3, 11, 13,  1,  8,\n",
       "        9,  0, 14,  3,  9, 14,  2,  1,  4, 13,  1,  1,  2, 10,  2,  2,  1,\n",
       "        5,  0,  8,  1,  3,  3, 11,  7,  6,  6,  0,  3, 10,  7,  1,  5, 10,\n",
       "       10,  9,  1,  6,  5,  3,  5, 13,  8,  1,  2,  1,  3,  2,  6,  9, 11,\n",
       "        1, 11,  8,  6,  1,  7, 11,  0,  5,  2,  4,  3,  2,  5,  6,  5,  6,\n",
       "        0,  1, 14, 14, 10,  6,  8, 10,  1, 13,  5, 10, 12,  9,  4,  6, 13,\n",
       "        1, 11,  7, 12,  3,  4,  1,  4, 10,  8,  6, 13,  8,  7,  3, 12,  6,\n",
       "        3,  8,  6, 14,  7,  9,  0, 14,  0,  7, 11, 13,  6,  5,  6,  9,  3,\n",
       "       13,  5, 13, 12,  3, 12,  5,  1, 13,  1,  1,  6,  9,  0,  6,  6,  6,\n",
       "        1,  0,  0,  3, 12, 10, 11, 11,  9, 11,  8, 10,  8, 11,  1,  1, 10,\n",
       "        3,  2,  6, 10,  4,  4,  9,  7, 13,  3, 10,  1,  5,  8,  2,  6, 14,\n",
       "        8,  6,  4,  8,  1, 13,  6, 11, 12,  0,  3, 13,  8,  5,  6,  4,  8,\n",
       "        6,  9, 14,  9,  3,  6,  5,  3, 12,  4, 12,  1,  6,  8,  0, 11, 11,\n",
       "        5,  9, 12, 11,  3,  6,  2,  8,  5,  9,  1,  9, 10,  0,  1, 11, 13,\n",
       "        1,  8,  8,  4,  2,  6,  3, 12, 11,  3,  9,  0, 14,  2,  2, 14,  6,\n",
       "       11, 10, 14, 12,  0,  1, 12,  3, 11,  1,  4, 10, 12,  0,  6, 14,  6,\n",
       "        7,  5, 11,  6,  0, 12,  1,  6,  5,  4,  9, 12, 14,  9,  2,  7,  5,\n",
       "        6,  5,  3,  5, 14,  5, 10,  2, 12,  8,  3,  8, 11,  5,  5,  5, 14,\n",
       "        4,  4,  8,  2,  5,  0,  7,  7,  4,  2, 10, 10,  8,  9, 13,  2, 14,\n",
       "       10,  7,  5, 11,  2,  8, 14,  2, 13, 10, 11, 10,  0,  2,  9,  0,  9,\n",
       "       10,  8,  6, 10,  1,  3,  6, 10,  3,  9,  1,  0,  5,  1, 13,  6,  4,\n",
       "        5,  3,  1, 11,  8,  4, 12,  4,  6, 14,  9,  7,  1,  9,  5,  5,  4,\n",
       "        2,  8,  3,  3, 12,  9,  8,  0,  9, 11,  3,  2, 12,  2],\n",
       "      dtype=int32)"
      ]
     },
     "execution_count": 21,
     "metadata": {},
     "output_type": "execute_result"
    }
   ],
   "source": [
    "prueba1 = np.random.randint(0,15,1000)\n",
    "prueba1\n"
   ]
  },
  {
   "cell_type": "code",
   "execution_count": 22,
   "metadata": {},
   "outputs": [
    {
     "data": {
      "text/plain": [
       "array([ 5, 33, 22, 30,  7, 32, 10,  0, 44, 12, 39, 38, 16, 15,  1,  4, 48,\n",
       "       13, 23, 34, 18, 26, 24, 11, 37,  8, 43,  2, 46, 21, 20, 29,  9, 45,\n",
       "       14, 25, 41, 36, 42, 28, 17, 31, 49,  3, 35, 19, 40,  6, 27, 47])"
      ]
     },
     "execution_count": 22,
     "metadata": {},
     "output_type": "execute_result"
    }
   ],
   "source": [
    "prueba2 = np.arange(50)\n",
    "np.random.shuffle(prueba2)\n",
    "prueba2"
   ]
  },
  {
   "cell_type": "markdown",
   "metadata": {},
   "source": [
    "a. Find the most frequent value in the prueba1 array?"
   ]
  },
  {
   "cell_type": "code",
   "execution_count": 23,
   "metadata": {},
   "outputs": [
    {
     "name": "stdout",
     "output_type": "stream",
     "text": [
      "La moda es: 5\n"
     ]
    }
   ],
   "source": [
    "# Moda\n",
    "values, counts = np.unique(prueba1, return_counts=True)\n",
    "mode = values[np.argmax(counts)]\n",
    "print(f\"La moda es: {mode}\")"
   ]
  },
  {
   "cell_type": "markdown",
   "metadata": {},
   "source": [
    "b. Convert the 1D array prueba2 to a 2D array with 5 rows"
   ]
  },
  {
   "cell_type": "code",
   "execution_count": 25,
   "metadata": {},
   "outputs": [
    {
     "name": "stdout",
     "output_type": "stream",
     "text": [
      "[[ 5 33 22 30  7 32 10  0 44 12]\n",
      " [39 38 16 15  1  4 48 13 23 34]\n",
      " [18 26 24 11 37  8 43  2 46 21]\n",
      " [20 29  9 45 14 25 41 36 42 28]\n",
      " [17 31 49  3 35 19 40  6 27 47]]\n"
     ]
    }
   ],
   "source": [
    "# Reshape\n",
    "prueba2_2d = prueba2.reshape(5,-1)\n",
    "print(prueba2_2d)"
   ]
  },
  {
   "cell_type": "markdown",
   "metadata": {},
   "source": [
    "# 6. Pandas"
   ]
  },
  {
   "cell_type": "markdown",
   "metadata": {},
   "source": [
    "Utilice la base de datos `nyc_taxis.csv`"
   ]
  },
  {
   "cell_type": "markdown",
   "metadata": {},
   "source": [
    "Let's work with a subset of the New York City taxi trip data released by the city. We'll focus on about 90,000 yellow taxi trips to and from various NYC airports between January and June 2016. Here are some selected columns from the dataset:\n",
    "\n",
    "- `pickup_month`: the month of the trip (January is 1, December is 12)\n",
    "- `pickup_day`: the day of the month of the trip\n",
    "- `pickup_location_code`: the airport or borough where the trip started\n",
    "- `dropoff_location_code`: the airport or borough where the trip ended\n",
    "- `trip_distance`: the distance of the trip in miles\n",
    "- `trip_length`: the length of the trip in seconds\n",
    "- `fare_amount`: the base fare of the trip, in dollars\n",
    "- `total_amount`: the total amount charged to the passenger, including all fees, tolls, and tips\n",
    "\n",
    "\n",
    "Review the dictionary data [here](https://s3.amazonaws.com/dq-content/289/nyc_taxi_data_dictionary.md).\n",
    "\n",
    "Our data is stored in a CSV file called `nyc_taxis.csv`\n"
   ]
  },
  {
   "cell_type": "markdown",
   "metadata": {},
   "source": [
    "Calcule:\n",
    "1. El promedio de la distancia de viaje (`trip_distance`) para cada mes (`pickup_month`)\n",
    "2. Cantidad de viajes desde JFK por día del mes"
   ]
  },
  {
   "cell_type": "markdown",
   "metadata": {},
   "source": []
  }
 ],
 "metadata": {
  "hide_input": false,
  "kernelspec": {
   "display_name": "Python 3",
   "language": "python",
   "name": "python3"
  },
  "language_info": {
   "codemirror_mode": {
    "name": "ipython",
    "version": 3
   },
   "file_extension": ".py",
   "mimetype": "text/x-python",
   "name": "python",
   "nbconvert_exporter": "python",
   "pygments_lexer": "ipython3",
   "version": "3.13.0"
  },
  "toc": {
   "base_numbering": 1,
   "nav_menu": {},
   "number_sections": true,
   "sideBar": true,
   "skip_h1_title": false,
   "title_cell": "Table of Contents",
   "title_sidebar": "Contents",
   "toc_cell": false,
   "toc_position": {},
   "toc_section_display": true,
   "toc_window_display": false
  }
 },
 "nbformat": 4,
 "nbformat_minor": 4
}
